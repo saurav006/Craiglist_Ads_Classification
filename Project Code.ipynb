{
 "cells": [
  {
   "cell_type": "code",
   "execution_count": 1,
   "id": "3f146649",
   "metadata": {},
   "outputs": [],
   "source": [
    "# Importing the Library\n",
    "import pandas as pd\n",
    "import numpy as np\n",
    "import nltk\n",
    "from sklearn.tree import DecisionTreeClassifier \n",
    "from sklearn.linear_model import LogisticRegression\n",
    "from sklearn.naive_bayes import MultinomialNB\n",
    "from xgboost import XGBClassifier\n",
    "from sklearn.neural_network import MLPClassifier\n",
    "from sklearn.metrics import accuracy_score\n",
    "from sklearn.ensemble import RandomForestClassifier\n",
    "import lightgbm as lgb"
   ]
  },
  {
   "cell_type": "code",
   "execution_count": 2,
   "id": "165057ae",
   "metadata": {},
   "outputs": [],
   "source": [
    "import matplotlib.pyplot as plt\n",
    "import seaborn as sns"
   ]
  },
  {
   "cell_type": "code",
   "execution_count": 3,
   "id": "fc891cf0",
   "metadata": {},
   "outputs": [],
   "source": [
    "df=pd.read_csv('AUD_Final_craig_new.csv')"
   ]
  },
  {
   "cell_type": "code",
   "execution_count": 4,
   "id": "e35a9731",
   "metadata": {},
   "outputs": [
    {
     "data": {
      "text/html": [
       "<div>\n",
       "<style scoped>\n",
       "    .dataframe tbody tr th:only-of-type {\n",
       "        vertical-align: middle;\n",
       "    }\n",
       "\n",
       "    .dataframe tbody tr th {\n",
       "        vertical-align: top;\n",
       "    }\n",
       "\n",
       "    .dataframe thead th {\n",
       "        text-align: right;\n",
       "    }\n",
       "</style>\n",
       "<table border=\"1\" class=\"dataframe\">\n",
       "  <thead>\n",
       "    <tr style=\"text-align: right;\">\n",
       "      <th></th>\n",
       "      <th>Label</th>\n",
       "      <th>Product_Url</th>\n",
       "      <th>Content</th>\n",
       "      <th>header</th>\n",
       "    </tr>\n",
       "  </thead>\n",
       "  <tbody>\n",
       "    <tr>\n",
       "      <th>0</th>\n",
       "      <td>Not a Computer</td>\n",
       "      <td>https://chicago.craigslist.org/nwc/sys/d/batav...</td>\n",
       "      <td>Very good shape, photo shows phone being charg...</td>\n",
       "      <td>Apple Mag Safe charger  -  $20  (Batavia)</td>\n",
       "    </tr>\n",
       "    <tr>\n",
       "      <th>1</th>\n",
       "      <td>Not a Computer</td>\n",
       "      <td>https://chicago.craigslist.org/nwc/sys/d/chica...</td>\n",
       "      <td>Ibenzer Anti Blue Light Anti Glare Screen Prot...</td>\n",
       "      <td>MacBook Pro 16 Screen Protector 2019-2020  - ...</td>\n",
       "    </tr>\n",
       "    <tr>\n",
       "      <th>2</th>\n",
       "      <td>Not a Computer</td>\n",
       "      <td>https://chicago.craigslist.org/nwc/sys/d/lisle...</td>\n",
       "      <td>2 NIB Brand New Medion Wireless Keyboard and M...</td>\n",
       "      <td>NaN</td>\n",
       "    </tr>\n",
       "    <tr>\n",
       "      <th>3</th>\n",
       "      <td>Not a Computer</td>\n",
       "      <td>https://chicago.craigslist.org/nwc/sys/d/naper...</td>\n",
       "      <td>New, in box and sealed, HP LaserJet wireless m...</td>\n",
       "      <td>New Sealed HP LaserJet Full Duplex Wireless L...</td>\n",
       "    </tr>\n",
       "    <tr>\n",
       "      <th>4</th>\n",
       "      <td>Not a Computer</td>\n",
       "      <td>https://chicago.craigslist.org/nwc/sys/d/naper...</td>\n",
       "      <td>New and sealed in box D-Link 5-port 10/100 des...</td>\n",
       "      <td>New and Sealed D-Link 5 Port Desktop Switch  ...</td>\n",
       "    </tr>\n",
       "  </tbody>\n",
       "</table>\n",
       "</div>"
      ],
      "text/plain": [
       "            Label                                        Product_Url  \\\n",
       "0  Not a Computer  https://chicago.craigslist.org/nwc/sys/d/batav...   \n",
       "1  Not a Computer  https://chicago.craigslist.org/nwc/sys/d/chica...   \n",
       "2  Not a Computer  https://chicago.craigslist.org/nwc/sys/d/lisle...   \n",
       "3  Not a Computer  https://chicago.craigslist.org/nwc/sys/d/naper...   \n",
       "4  Not a Computer  https://chicago.craigslist.org/nwc/sys/d/naper...   \n",
       "\n",
       "                                             Content  \\\n",
       "0  Very good shape, photo shows phone being charg...   \n",
       "1  Ibenzer Anti Blue Light Anti Glare Screen Prot...   \n",
       "2  2 NIB Brand New Medion Wireless Keyboard and M...   \n",
       "3  New, in box and sealed, HP LaserJet wireless m...   \n",
       "4  New and sealed in box D-Link 5-port 10/100 des...   \n",
       "\n",
       "                                              header  \n",
       "0        Apple Mag Safe charger  -  $20  (Batavia)    \n",
       "1   MacBook Pro 16 Screen Protector 2019-2020  - ...  \n",
       "2                                                NaN  \n",
       "3   New Sealed HP LaserJet Full Duplex Wireless L...  \n",
       "4   New and Sealed D-Link 5 Port Desktop Switch  ...  "
      ]
     },
     "execution_count": 4,
     "metadata": {},
     "output_type": "execute_result"
    }
   ],
   "source": [
    "df.head()"
   ]
  },
  {
   "cell_type": "code",
   "execution_count": 5,
   "id": "4d7f69bf",
   "metadata": {},
   "outputs": [
    {
     "name": "stdout",
     "output_type": "stream",
     "text": [
      "The number of rows and columns in the dataset are: (2143, 4)\n"
     ]
    }
   ],
   "source": [
    "print('The number of rows and columns in the dataset are:',df.shape)"
   ]
  },
  {
   "cell_type": "code",
   "execution_count": 6,
   "id": "f49673cc",
   "metadata": {},
   "outputs": [
    {
     "name": "stdout",
     "output_type": "stream",
     "text": [
      "                Count  Percentage\n",
      "Computer         1287   60.055996\n",
      "Not a Computer    856   39.944004\n"
     ]
    },
    {
     "data": {
      "image/png": "[encoded data removed]",
      "text/plain": [
       "<Figure size 800x600 with 1 Axes>"
      ]
     },
     "metadata": {},
     "output_type": "display_data"
    }
   ],
   "source": [
    "#Comparing the data so as to understand if scaling is required or not\n",
    "\n",
    "value_counts=df['Label'].value_counts()\n",
    "percentage=(value_counts/len(df))*100\n",
    "result=pd.DataFrame({'Count': value_counts, 'Percentage': percentage})\n",
    "print(result)\n",
    "\n",
    "result['Count'].plot(kind='bar', figsize=(8, 6))\n",
    "plt.title('Number of Records by Label')\n",
    "plt.xlabel('Label Category')\n",
    "plt.ylabel('Number of Records')\n",
    "\n",
    "# Adding count values on top of the bars\n",
    "for i, count in enumerate(result['Count']):\n",
    "    plt.text(i, count + 10, str(count), ha='center')\n",
    "\n",
    "plt.xticks(rotation=0)\n",
    "\n",
    "plt.show()"
   ]
  },
  {
   "cell_type": "code",
   "execution_count": 7,
   "id": "2c32e763",
   "metadata": {},
   "outputs": [
    {
     "name": "stdout",
     "output_type": "stream",
     "text": [
      "             Has Null  Percentage Null\n",
      "Label           False         0.000000\n",
      "Product_Url     False         0.000000\n",
      "Content          True         0.233318\n",
      "header           True         4.433038\n"
     ]
    }
   ],
   "source": [
    "# Comparing if there are any null values\n",
    "null_check = df.isnull().any()\n",
    "percentage_null = (df.isnull().mean()) * 100\n",
    "result = pd.DataFrame({'Has Null': null_check, 'Percentage Null': percentage_null})\n",
    "\n",
    "# Display the result\n",
    "print(result)"
   ]
  },
  {
   "cell_type": "code",
   "execution_count": 8,
   "id": "4899291f",
   "metadata": {},
   "outputs": [],
   "source": [
    "#Extracting the key words from the Product_Url to use it for classification\n",
    "extracted_url=[]\n",
    "for i in range(0,len(df)):\n",
    "    start_index=df['Product_Url'][i].find('/d/')\n",
    "    end_index=df['Product_Url'][i].rfind('/')\n",
    "    extracted_url.append(df['Product_Url'][i][start_index+3:end_index])"
   ]
  },
  {
   "cell_type": "code",
   "execution_count": 9,
   "id": "83032999",
   "metadata": {},
   "outputs": [],
   "source": [
    "#Replacing '-' with ' ' to enable tokenization in the later stage\n",
    "df['Extracted_URL']=extracted_url\n",
    "df.loc[:, 'Extracted_URL'] = df['Extracted_URL'].str.replace('-', ' ')"
   ]
  },
  {
   "cell_type": "code",
   "execution_count": 10,
   "id": "88f09ba8",
   "metadata": {},
   "outputs": [
    {
     "data": {
      "text/html": [
       "<div>\n",
       "<style scoped>\n",
       "    .dataframe tbody tr th:only-of-type {\n",
       "        vertical-align: middle;\n",
       "    }\n",
       "\n",
       "    .dataframe tbody tr th {\n",
       "        vertical-align: top;\n",
       "    }\n",
       "\n",
       "    .dataframe thead th {\n",
       "        text-align: right;\n",
       "    }\n",
       "</style>\n",
       "<table border=\"1\" class=\"dataframe\">\n",
       "  <thead>\n",
       "    <tr style=\"text-align: right;\">\n",
       "      <th></th>\n",
       "      <th>Label</th>\n",
       "      <th>Product_Url</th>\n",
       "      <th>Content</th>\n",
       "      <th>header</th>\n",
       "      <th>Extracted_URL</th>\n",
       "    </tr>\n",
       "  </thead>\n",
       "  <tbody>\n",
       "    <tr>\n",
       "      <th>0</th>\n",
       "      <td>Not a Computer</td>\n",
       "      <td>https://chicago.craigslist.org/nwc/sys/d/batav...</td>\n",
       "      <td>Very good shape, photo shows phone being charg...</td>\n",
       "      <td>Apple Mag Safe charger  -  $20  (Batavia)</td>\n",
       "      <td>batavia apple mag safe charger</td>\n",
       "    </tr>\n",
       "    <tr>\n",
       "      <th>1</th>\n",
       "      <td>Not a Computer</td>\n",
       "      <td>https://chicago.craigslist.org/nwc/sys/d/chica...</td>\n",
       "      <td>Ibenzer Anti Blue Light Anti Glare Screen Prot...</td>\n",
       "      <td>MacBook Pro 16 Screen Protector 2019-2020  - ...</td>\n",
       "      <td>chicago macbook pro 16 screen protector</td>\n",
       "    </tr>\n",
       "    <tr>\n",
       "      <th>2</th>\n",
       "      <td>Not a Computer</td>\n",
       "      <td>https://chicago.craigslist.org/nwc/sys/d/lisle...</td>\n",
       "      <td>2 NIB Brand New Medion Wireless Keyboard and M...</td>\n",
       "      <td>NaN</td>\n",
       "      <td>lisle nib brand new medion wireless</td>\n",
       "    </tr>\n",
       "    <tr>\n",
       "      <th>3</th>\n",
       "      <td>Not a Computer</td>\n",
       "      <td>https://chicago.craigslist.org/nwc/sys/d/naper...</td>\n",
       "      <td>New, in box and sealed, HP LaserJet wireless m...</td>\n",
       "      <td>New Sealed HP LaserJet Full Duplex Wireless L...</td>\n",
       "      <td>naperville new sealed hp laserjet full</td>\n",
       "    </tr>\n",
       "    <tr>\n",
       "      <th>4</th>\n",
       "      <td>Not a Computer</td>\n",
       "      <td>https://chicago.craigslist.org/nwc/sys/d/naper...</td>\n",
       "      <td>New and sealed in box D-Link 5-port 10/100 des...</td>\n",
       "      <td>New and Sealed D-Link 5 Port Desktop Switch  ...</td>\n",
       "      <td>naperville new and sealed link port</td>\n",
       "    </tr>\n",
       "  </tbody>\n",
       "</table>\n",
       "</div>"
      ],
      "text/plain": [
       "            Label                                        Product_Url  \\\n",
       "0  Not a Computer  https://chicago.craigslist.org/nwc/sys/d/batav...   \n",
       "1  Not a Computer  https://chicago.craigslist.org/nwc/sys/d/chica...   \n",
       "2  Not a Computer  https://chicago.craigslist.org/nwc/sys/d/lisle...   \n",
       "3  Not a Computer  https://chicago.craigslist.org/nwc/sys/d/naper...   \n",
       "4  Not a Computer  https://chicago.craigslist.org/nwc/sys/d/naper...   \n",
       "\n",
       "                                             Content  \\\n",
       "0  Very good shape, photo shows phone being charg...   \n",
       "1  Ibenzer Anti Blue Light Anti Glare Screen Prot...   \n",
       "2  2 NIB Brand New Medion Wireless Keyboard and M...   \n",
       "3  New, in box and sealed, HP LaserJet wireless m...   \n",
       "4  New and sealed in box D-Link 5-port 10/100 des...   \n",
       "\n",
       "                                              header  \\\n",
       "0        Apple Mag Safe charger  -  $20  (Batavia)     \n",
       "1   MacBook Pro 16 Screen Protector 2019-2020  - ...   \n",
       "2                                                NaN   \n",
       "3   New Sealed HP LaserJet Full Duplex Wireless L...   \n",
       "4   New and Sealed D-Link 5 Port Desktop Switch  ...   \n",
       "\n",
       "                             Extracted_URL  \n",
       "0           batavia apple mag safe charger  \n",
       "1  chicago macbook pro 16 screen protector  \n",
       "2      lisle nib brand new medion wireless  \n",
       "3   naperville new sealed hp laserjet full  \n",
       "4      naperville new and sealed link port  "
      ]
     },
     "execution_count": 10,
     "metadata": {},
     "output_type": "execute_result"
    }
   ],
   "source": [
    "df.head()"
   ]
  },
  {
   "cell_type": "code",
   "execution_count": 11,
   "id": "a776e5df",
   "metadata": {},
   "outputs": [],
   "source": [
    "from sklearn.preprocessing import LabelEncoder\n",
    "labelencoder=LabelEncoder()\n",
    "df['Flag'] = labelencoder.fit_transform(df['Label'])"
   ]
  },
  {
   "cell_type": "code",
   "execution_count": 12,
   "id": "08312e78",
   "metadata": {},
   "outputs": [
    {
     "data": {
      "text/html": [
       "<div>\n",
       "<style scoped>\n",
       "    .dataframe tbody tr th:only-of-type {\n",
       "        vertical-align: middle;\n",
       "    }\n",
       "\n",
       "    .dataframe tbody tr th {\n",
       "        vertical-align: top;\n",
       "    }\n",
       "\n",
       "    .dataframe thead th {\n",
       "        text-align: right;\n",
       "    }\n",
       "</style>\n",
       "<table border=\"1\" class=\"dataframe\">\n",
       "  <thead>\n",
       "    <tr style=\"text-align: right;\">\n",
       "      <th></th>\n",
       "      <th>Label</th>\n",
       "      <th>Product_Url</th>\n",
       "      <th>Content</th>\n",
       "      <th>header</th>\n",
       "      <th>Extracted_URL</th>\n",
       "      <th>Flag</th>\n",
       "    </tr>\n",
       "  </thead>\n",
       "  <tbody>\n",
       "    <tr>\n",
       "      <th>0</th>\n",
       "      <td>Not a Computer</td>\n",
       "      <td>https://chicago.craigslist.org/nwc/sys/d/batav...</td>\n",
       "      <td>Very good shape, photo shows phone being charg...</td>\n",
       "      <td>Apple Mag Safe charger  -  $20  (Batavia)</td>\n",
       "      <td>batavia apple mag safe charger</td>\n",
       "      <td>1</td>\n",
       "    </tr>\n",
       "    <tr>\n",
       "      <th>1</th>\n",
       "      <td>Not a Computer</td>\n",
       "      <td>https://chicago.craigslist.org/nwc/sys/d/chica...</td>\n",
       "      <td>Ibenzer Anti Blue Light Anti Glare Screen Prot...</td>\n",
       "      <td>MacBook Pro 16 Screen Protector 2019-2020  - ...</td>\n",
       "      <td>chicago macbook pro 16 screen protector</td>\n",
       "      <td>1</td>\n",
       "    </tr>\n",
       "    <tr>\n",
       "      <th>2</th>\n",
       "      <td>Not a Computer</td>\n",
       "      <td>https://chicago.craigslist.org/nwc/sys/d/lisle...</td>\n",
       "      <td>2 NIB Brand New Medion Wireless Keyboard and M...</td>\n",
       "      <td>NaN</td>\n",
       "      <td>lisle nib brand new medion wireless</td>\n",
       "      <td>1</td>\n",
       "    </tr>\n",
       "    <tr>\n",
       "      <th>3</th>\n",
       "      <td>Not a Computer</td>\n",
       "      <td>https://chicago.craigslist.org/nwc/sys/d/naper...</td>\n",
       "      <td>New, in box and sealed, HP LaserJet wireless m...</td>\n",
       "      <td>New Sealed HP LaserJet Full Duplex Wireless L...</td>\n",
       "      <td>naperville new sealed hp laserjet full</td>\n",
       "      <td>1</td>\n",
       "    </tr>\n",
       "    <tr>\n",
       "      <th>4</th>\n",
       "      <td>Not a Computer</td>\n",
       "      <td>https://chicago.craigslist.org/nwc/sys/d/naper...</td>\n",
       "      <td>New and sealed in box D-Link 5-port 10/100 des...</td>\n",
       "      <td>New and Sealed D-Link 5 Port Desktop Switch  ...</td>\n",
       "      <td>naperville new and sealed link port</td>\n",
       "      <td>1</td>\n",
       "    </tr>\n",
       "  </tbody>\n",
       "</table>\n",
       "</div>"
      ],
      "text/plain": [
       "            Label                                        Product_Url  \\\n",
       "0  Not a Computer  https://chicago.craigslist.org/nwc/sys/d/batav...   \n",
       "1  Not a Computer  https://chicago.craigslist.org/nwc/sys/d/chica...   \n",
       "2  Not a Computer  https://chicago.craigslist.org/nwc/sys/d/lisle...   \n",
       "3  Not a Computer  https://chicago.craigslist.org/nwc/sys/d/naper...   \n",
       "4  Not a Computer  https://chicago.craigslist.org/nwc/sys/d/naper...   \n",
       "\n",
       "                                             Content  \\\n",
       "0  Very good shape, photo shows phone being charg...   \n",
       "1  Ibenzer Anti Blue Light Anti Glare Screen Prot...   \n",
       "2  2 NIB Brand New Medion Wireless Keyboard and M...   \n",
       "3  New, in box and sealed, HP LaserJet wireless m...   \n",
       "4  New and sealed in box D-Link 5-port 10/100 des...   \n",
       "\n",
       "                                              header  \\\n",
       "0        Apple Mag Safe charger  -  $20  (Batavia)     \n",
       "1   MacBook Pro 16 Screen Protector 2019-2020  - ...   \n",
       "2                                                NaN   \n",
       "3   New Sealed HP LaserJet Full Duplex Wireless L...   \n",
       "4   New and Sealed D-Link 5 Port Desktop Switch  ...   \n",
       "\n",
       "                             Extracted_URL  Flag  \n",
       "0           batavia apple mag safe charger     1  \n",
       "1  chicago macbook pro 16 screen protector     1  \n",
       "2      lisle nib brand new medion wireless     1  \n",
       "3   naperville new sealed hp laserjet full     1  \n",
       "4      naperville new and sealed link port     1  "
      ]
     },
     "execution_count": 12,
     "metadata": {},
     "output_type": "execute_result"
    }
   ],
   "source": [
    "df.head()"
   ]
  },
  {
   "cell_type": "code",
   "execution_count": 13,
   "id": "7b3f01dd",
   "metadata": {},
   "outputs": [],
   "source": [
    "# Data Cleaning (Tokenization, Lemmatization and Stop word Removal)\n",
    "\n",
    "from nltk.corpus import stopwords\n",
    "\n",
    "# Tokenize the collection\n",
    "token_list = []\n",
    "for i in df['Extracted_URL']:\n",
    "    # Handle missing values\n",
    "    if pd.notnull(i):\n",
    "        token_list.append(nltk.word_tokenize(i))\n",
    "\n",
    "# Lemmatize the words\n",
    "lammetize_list = []\n",
    "for i in token_list:\n",
    "    lemmatizer = nltk.stem.WordNetLemmatizer()\n",
    "    lemmatized_token = [lemmatizer.lemmatize(token) for token in i]\n",
    "    lammetize_list.append(lemmatized_token)\n",
    "\n",
    "# Remove stop words\n",
    "stop_list = []\n",
    "for i in lammetize_list:\n",
    "    stop_words_removed = [token for token in i if not token in stopwords.words('english') if token.isalnum() and token.lower() != 'nan']\n",
    "    stop_list.append(stop_words_removed)"
   ]
  },
  {
   "cell_type": "code",
   "execution_count": 14,
   "id": "84d10c18",
   "metadata": {},
   "outputs": [],
   "source": [
    "#Defining a function to again add the token back into a sentence\n",
    "\n",
    "def convert_to_string(a): \n",
    "    \n",
    "    # initialize an empty string\n",
    "    first_string = \"\" \n",
    "    \n",
    "    # traverse in the string  \n",
    "    for element in a: \n",
    "        first_string = first_string+\" \"+element  \n",
    "    \n",
    "    # return string  \n",
    "    return first_string "
   ]
  },
  {
   "cell_type": "code",
   "execution_count": 15,
   "id": "c47fb14d",
   "metadata": {},
   "outputs": [],
   "source": [
    "final_list=[]\n",
    "for i in stop_list:\n",
    "    sen_list=convert_to_string(i)\n",
    "    final_list.append(sen_list)"
   ]
  },
  {
   "cell_type": "code",
   "execution_count": 16,
   "id": "17a5b700",
   "metadata": {},
   "outputs": [
    {
     "data": {
      "text/html": [
       "<div>\n",
       "<style scoped>\n",
       "    .dataframe tbody tr th:only-of-type {\n",
       "        vertical-align: middle;\n",
       "    }\n",
       "\n",
       "    .dataframe tbody tr th {\n",
       "        vertical-align: top;\n",
       "    }\n",
       "\n",
       "    .dataframe thead th {\n",
       "        text-align: right;\n",
       "    }\n",
       "</style>\n",
       "<table border=\"1\" class=\"dataframe\">\n",
       "  <thead>\n",
       "    <tr style=\"text-align: right;\">\n",
       "      <th></th>\n",
       "      <th>Cleaned_URL</th>\n",
       "    </tr>\n",
       "  </thead>\n",
       "  <tbody>\n",
       "    <tr>\n",
       "      <th>0</th>\n",
       "      <td>batavia apple mag safe charger</td>\n",
       "    </tr>\n",
       "    <tr>\n",
       "      <th>1</th>\n",
       "      <td>chicago macbook pro 16 screen protector</td>\n",
       "    </tr>\n",
       "    <tr>\n",
       "      <th>2</th>\n",
       "      <td>lisle nib brand new medion wireless</td>\n",
       "    </tr>\n",
       "    <tr>\n",
       "      <th>3</th>\n",
       "      <td>naperville new sealed hp laserjet full</td>\n",
       "    </tr>\n",
       "    <tr>\n",
       "      <th>4</th>\n",
       "      <td>naperville new sealed link port</td>\n",
       "    </tr>\n",
       "    <tr>\n",
       "      <th>...</th>\n",
       "      <td>...</td>\n",
       "    </tr>\n",
       "    <tr>\n",
       "      <th>2138</th>\n",
       "      <td>oakland compatible hp laserjet</td>\n",
       "    </tr>\n",
       "    <tr>\n",
       "      <th>2139</th>\n",
       "      <td>alameda vizio 26 computer monitor</td>\n",
       "    </tr>\n",
       "    <tr>\n",
       "      <th>2140</th>\n",
       "      <td>cupertino macbook pro 16 inch loaded m1</td>\n",
       "    </tr>\n",
       "    <tr>\n",
       "      <th>2141</th>\n",
       "      <td>fremont 2019 macbook pro 16 inch gb ssd</td>\n",
       "    </tr>\n",
       "    <tr>\n",
       "      <th>2142</th>\n",
       "      <td>palo alto 12 bay sun microsystems</td>\n",
       "    </tr>\n",
       "  </tbody>\n",
       "</table>\n",
       "<p>2143 rows × 1 columns</p>\n",
       "</div>"
      ],
      "text/plain": [
       "                                   Cleaned_URL\n",
       "0               batavia apple mag safe charger\n",
       "1      chicago macbook pro 16 screen protector\n",
       "2          lisle nib brand new medion wireless\n",
       "3       naperville new sealed hp laserjet full\n",
       "4              naperville new sealed link port\n",
       "...                                        ...\n",
       "2138            oakland compatible hp laserjet\n",
       "2139         alameda vizio 26 computer monitor\n",
       "2140   cupertino macbook pro 16 inch loaded m1\n",
       "2141   fremont 2019 macbook pro 16 inch gb ssd\n",
       "2142         palo alto 12 bay sun microsystems\n",
       "\n",
       "[2143 rows x 1 columns]"
      ]
     },
     "execution_count": 16,
     "metadata": {},
     "output_type": "execute_result"
    }
   ],
   "source": [
    "df2=pd.DataFrame(final_list,columns=['Cleaned_URL'])\n",
    "df2"
   ]
  },
  {
   "cell_type": "code",
   "execution_count": 17,
   "id": "2f4d9132",
   "metadata": {},
   "outputs": [
    {
     "data": {
      "text/html": [
       "<div>\n",
       "<style scoped>\n",
       "    .dataframe tbody tr th:only-of-type {\n",
       "        vertical-align: middle;\n",
       "    }\n",
       "\n",
       "    .dataframe tbody tr th {\n",
       "        vertical-align: top;\n",
       "    }\n",
       "\n",
       "    .dataframe thead th {\n",
       "        text-align: right;\n",
       "    }\n",
       "</style>\n",
       "<table border=\"1\" class=\"dataframe\">\n",
       "  <thead>\n",
       "    <tr style=\"text-align: right;\">\n",
       "      <th></th>\n",
       "      <th>Label</th>\n",
       "      <th>Product_Url</th>\n",
       "      <th>Content</th>\n",
       "      <th>header</th>\n",
       "      <th>Extracted_URL</th>\n",
       "      <th>Flag</th>\n",
       "      <th>Cleaned_URL</th>\n",
       "    </tr>\n",
       "  </thead>\n",
       "  <tbody>\n",
       "    <tr>\n",
       "      <th>0</th>\n",
       "      <td>Not a Computer</td>\n",
       "      <td>https://chicago.craigslist.org/nwc/sys/d/batav...</td>\n",
       "      <td>Very good shape, photo shows phone being charg...</td>\n",
       "      <td>Apple Mag Safe charger  -  $20  (Batavia)</td>\n",
       "      <td>batavia apple mag safe charger</td>\n",
       "      <td>1</td>\n",
       "      <td>batavia apple mag safe charger</td>\n",
       "    </tr>\n",
       "    <tr>\n",
       "      <th>1</th>\n",
       "      <td>Not a Computer</td>\n",
       "      <td>https://chicago.craigslist.org/nwc/sys/d/chica...</td>\n",
       "      <td>Ibenzer Anti Blue Light Anti Glare Screen Prot...</td>\n",
       "      <td>MacBook Pro 16 Screen Protector 2019-2020  - ...</td>\n",
       "      <td>chicago macbook pro 16 screen protector</td>\n",
       "      <td>1</td>\n",
       "      <td>chicago macbook pro 16 screen protector</td>\n",
       "    </tr>\n",
       "    <tr>\n",
       "      <th>2</th>\n",
       "      <td>Not a Computer</td>\n",
       "      <td>https://chicago.craigslist.org/nwc/sys/d/lisle...</td>\n",
       "      <td>2 NIB Brand New Medion Wireless Keyboard and M...</td>\n",
       "      <td>NaN</td>\n",
       "      <td>lisle nib brand new medion wireless</td>\n",
       "      <td>1</td>\n",
       "      <td>lisle nib brand new medion wireless</td>\n",
       "    </tr>\n",
       "    <tr>\n",
       "      <th>3</th>\n",
       "      <td>Not a Computer</td>\n",
       "      <td>https://chicago.craigslist.org/nwc/sys/d/naper...</td>\n",
       "      <td>New, in box and sealed, HP LaserJet wireless m...</td>\n",
       "      <td>New Sealed HP LaserJet Full Duplex Wireless L...</td>\n",
       "      <td>naperville new sealed hp laserjet full</td>\n",
       "      <td>1</td>\n",
       "      <td>naperville new sealed hp laserjet full</td>\n",
       "    </tr>\n",
       "    <tr>\n",
       "      <th>4</th>\n",
       "      <td>Not a Computer</td>\n",
       "      <td>https://chicago.craigslist.org/nwc/sys/d/naper...</td>\n",
       "      <td>New and sealed in box D-Link 5-port 10/100 des...</td>\n",
       "      <td>New and Sealed D-Link 5 Port Desktop Switch  ...</td>\n",
       "      <td>naperville new and sealed link port</td>\n",
       "      <td>1</td>\n",
       "      <td>naperville new sealed link port</td>\n",
       "    </tr>\n",
       "  </tbody>\n",
       "</table>\n",
       "</div>"
      ],
      "text/plain": [
       "            Label                                        Product_Url  \\\n",
       "0  Not a Computer  https://chicago.craigslist.org/nwc/sys/d/batav...   \n",
       "1  Not a Computer  https://chicago.craigslist.org/nwc/sys/d/chica...   \n",
       "2  Not a Computer  https://chicago.craigslist.org/nwc/sys/d/lisle...   \n",
       "3  Not a Computer  https://chicago.craigslist.org/nwc/sys/d/naper...   \n",
       "4  Not a Computer  https://chicago.craigslist.org/nwc/sys/d/naper...   \n",
       "\n",
       "                                             Content  \\\n",
       "0  Very good shape, photo shows phone being charg...   \n",
       "1  Ibenzer Anti Blue Light Anti Glare Screen Prot...   \n",
       "2  2 NIB Brand New Medion Wireless Keyboard and M...   \n",
       "3  New, in box and sealed, HP LaserJet wireless m...   \n",
       "4  New and sealed in box D-Link 5-port 10/100 des...   \n",
       "\n",
       "                                              header  \\\n",
       "0        Apple Mag Safe charger  -  $20  (Batavia)     \n",
       "1   MacBook Pro 16 Screen Protector 2019-2020  - ...   \n",
       "2                                                NaN   \n",
       "3   New Sealed HP LaserJet Full Duplex Wireless L...   \n",
       "4   New and Sealed D-Link 5 Port Desktop Switch  ...   \n",
       "\n",
       "                             Extracted_URL  Flag  \\\n",
       "0           batavia apple mag safe charger     1   \n",
       "1  chicago macbook pro 16 screen protector     1   \n",
       "2      lisle nib brand new medion wireless     1   \n",
       "3   naperville new sealed hp laserjet full     1   \n",
       "4      naperville new and sealed link port     1   \n",
       "\n",
       "                                Cleaned_URL  \n",
       "0            batavia apple mag safe charger  \n",
       "1   chicago macbook pro 16 screen protector  \n",
       "2       lisle nib brand new medion wireless  \n",
       "3    naperville new sealed hp laserjet full  \n",
       "4           naperville new sealed link port  "
      ]
     },
     "execution_count": 17,
     "metadata": {},
     "output_type": "execute_result"
    }
   ],
   "source": [
    "#Creating the final Dataframe\n",
    "final=pd.merge(df,df2,left_index=True,right_index=True)\n",
    "final.head()"
   ]
  },
  {
   "cell_type": "code",
   "execution_count": 18,
   "id": "878d2278",
   "metadata": {},
   "outputs": [],
   "source": [
    "from sklearn.model_selection import train_test_split\n",
    "X_train, X_test, Y_train, Y_test = train_test_split(final['Cleaned_URL'], final['Flag'], test_size=0.3, random_state=183, shuffle=True)"
   ]
  },
  {
   "cell_type": "code",
   "execution_count": 19,
   "id": "a57ac5fa",
   "metadata": {},
   "outputs": [],
   "source": [
    "from sklearn.feature_extraction.text import TfidfVectorizer\n",
    "vectorizer=TfidfVectorizer(min_df=1,ngram_range=(1,2))\n",
    "v1=vectorizer.fit(X_train)\n",
    "\n",
    "X_train_transformed=vectorizer.transform(X_train)\n",
    "X_test_transformed=vectorizer.transform(X_test)"
   ]
  },
  {
   "cell_type": "code",
   "execution_count": 20,
   "id": "8b2da9b0",
   "metadata": {},
   "outputs": [
    {
     "data": {
      "text/plain": [
       "(1500, 5824)"
      ]
     },
     "execution_count": 20,
     "metadata": {},
     "output_type": "execute_result"
    }
   ],
   "source": [
    "X_train_transformed.shape"
   ]
  },
  {
   "cell_type": "code",
   "execution_count": 21,
   "id": "22e0402d",
   "metadata": {},
   "outputs": [
    {
     "data": {
      "text/plain": [
       "(643, 5824)"
      ]
     },
     "execution_count": 21,
     "metadata": {},
     "output_type": "execute_result"
    }
   ],
   "source": [
    "X_test_transformed.shape"
   ]
  },
  {
   "cell_type": "markdown",
   "id": "4e178b84",
   "metadata": {},
   "source": [
    "## Logistic Regression"
   ]
  },
  {
   "cell_type": "code",
   "execution_count": 22,
   "id": "431105e8",
   "metadata": {
    "scrolled": true
   },
   "outputs": [
    {
     "name": "stdout",
     "output_type": "stream",
     "text": [
      "Best parameters: {'C': 10, 'penalty': 'l2'}\n",
      "Accuracy of Logit model with best parameters: 86.1586%\n",
      "[0.10924739 0.89075261]\n"
     ]
    }
   ],
   "source": [
    "from sklearn.linear_model import LogisticRegression\n",
    "from sklearn.model_selection import GridSearchCV\n",
    "\n",
    "# Define the Logistic Regression model\n",
    "Logit_model = LogisticRegression()\n",
    "\n",
    "# Define the parameter grid\n",
    "param_grid = {\n",
    "    'penalty': ['l2'],\n",
    "    'C': [0.001, 0.01, 0.1, 1, 10, 100]\n",
    "}\n",
    "\n",
    "# Perform grid search with cross-validation\n",
    "grid_search = GridSearchCV(estimator=Logit_model, param_grid=param_grid, cv=5, scoring='accuracy')\n",
    "grid_search.fit(X_train_transformed, Y_train)\n",
    "\n",
    "# Get the best parameters\n",
    "best_params = grid_search.best_params_\n",
    "print(\"Best parameters:\", best_params)\n",
    "\n",
    "# Train the model with the best parameters\n",
    "Logit_model_best = LogisticRegression(**best_params)\n",
    "Logit_model_best.fit(X_train_transformed, Y_train)\n",
    "\n",
    "# Evaluation\n",
    "y_pred_logit_best = Logit_model_best.predict(X_test_transformed)\n",
    "accuracy_logit_best = accuracy_score(Y_test, y_pred_logit_best)\n",
    "print(\"Accuracy of Logit model with best parameters: {:.4f}%\".format(accuracy_logit_best * 100))\n",
    "\n",
    "y_pred_prob_logit_best = Logit_model_best.predict_proba(X_test_transformed)\n",
    "print(y_pred_prob_logit_best[0])"
   ]
  },
  {
   "cell_type": "markdown",
   "id": "ea6efffc",
   "metadata": {},
   "source": [
    "## Naive Bayes"
   ]
  },
  {
   "cell_type": "code",
   "execution_count": 23,
   "id": "79f59d25",
   "metadata": {},
   "outputs": [
    {
     "name": "stdout",
     "output_type": "stream",
     "text": [
      "Best alpha value: 0.1\n",
      "Accuracy of Naive Bayes model with best alpha: 86.3142%\n",
      "              precision    recall  f1-score   support\n",
      "\n",
      "           0       0.92      0.86      0.89       418\n",
      "           1       0.77      0.87      0.82       225\n",
      "\n",
      "    accuracy                           0.86       643\n",
      "   macro avg       0.85      0.86      0.85       643\n",
      "weighted avg       0.87      0.86      0.86       643\n",
      "\n",
      "[[360  58]\n",
      " [ 30 195]]\n"
     ]
    }
   ],
   "source": [
    "from sklearn.model_selection import GridSearchCV\n",
    "from sklearn.naive_bayes import MultinomialNB\n",
    "from sklearn.metrics import classification_report, confusion_matrix\n",
    "\n",
    "# Define the model\n",
    "NB_model = MultinomialNB()\n",
    "\n",
    "# Define the parameter grid\n",
    "param_grid = {'alpha': [0.1, 0.5, 1.0, 2.0, 5.0, 10.0]}\n",
    "\n",
    "# Perform grid search\n",
    "grid_search = GridSearchCV(NB_model, param_grid, cv=5, scoring='accuracy')\n",
    "grid_search.fit(X_train_transformed, Y_train)\n",
    "\n",
    "# Get the best parameter\n",
    "best_alpha = grid_search.best_params_['alpha']\n",
    "print(\"Best alpha value:\", best_alpha)\n",
    "\n",
    "# Train the model with the best alpha\n",
    "NB_model_best = MultinomialNB(alpha=best_alpha)\n",
    "NB_model_best.fit(X_train_transformed, Y_train)\n",
    "\n",
    "# Evaluation\n",
    "y_pred_NB_best = NB_model_best.predict(X_test_transformed)\n",
    "accuracy_best = accuracy_score(Y_test, y_pred_NB_best)\n",
    "print(\"Accuracy of Naive Bayes model with best alpha: {:.4f}%\".format(accuracy_best * 100))\n",
    "\n",
    "print(classification_report(y_pred_NB_best,Y_test))\n",
    "print(confusion_matrix(y_pred_NB_best,Y_test))"
   ]
  },
  {
   "cell_type": "markdown",
   "id": "ec889548",
   "metadata": {},
   "source": [
    "## XGBoost"
   ]
  },
  {
   "cell_type": "code",
   "execution_count": 24,
   "id": "97961839",
   "metadata": {},
   "outputs": [
    {
     "name": "stdout",
     "output_type": "stream",
     "text": [
      "Best parameters: {'learning_rate': 0.1, 'max_depth': 5, 'n_estimators': 200, 'subsample': 0.8}\n",
      "Accuracy of XGBoost Classifier Model with best parameters: 83.5148%\n"
     ]
    }
   ],
   "source": [
    "from sklearn.model_selection import GridSearchCV\n",
    "from xgboost import XGBClassifier\n",
    "\n",
    "# Define the XGBoost model\n",
    "xgboost_model = XGBClassifier(random_state=0)\n",
    "\n",
    "# Define the parameter grid\n",
    "param_grid = {\n",
    "    'learning_rate': [0.1, 0.01],  # Different learning rates\n",
    "    'n_estimators': [100, 200, 300],  # Different numbers of trees\n",
    "    'max_depth': [3, 5, 7],  # Different maximum depths\n",
    "    'subsample': [0.8, 0.9],  # Different subsample values\n",
    "}\n",
    "\n",
    "# Perform grid search\n",
    "grid_search = GridSearchCV(xgboost_model, param_grid, cv=5, scoring='accuracy')\n",
    "grid_search.fit(X_train_transformed, Y_train)\n",
    "\n",
    "# Get the best parameters\n",
    "best_params = grid_search.best_params_\n",
    "print(\"Best parameters:\", best_params)\n",
    "\n",
    "# Train the model with the best parameters\n",
    "xgboost_model_best = XGBClassifier(**best_params, random_state=0)\n",
    "xgboost_model_best.fit(X_train_transformed, Y_train)\n",
    "\n",
    "# Evaluation\n",
    "y_pred_xgboost_best = xgboost_model_best.predict(X_test_transformed)\n",
    "accuracy_xgboost_best = accuracy_score(Y_test, y_pred_xgboost_best)\n",
    "print(\"Accuracy of XGBoost Classifier Model with best parameters: {:.4f}%\".format(accuracy_xgboost_best * 100))"
   ]
  },
  {
   "cell_type": "markdown",
   "id": "9c357e59",
   "metadata": {},
   "source": [
    "## Neural Network"
   ]
  },
  {
   "cell_type": "code",
   "execution_count": 25,
   "id": "f65ddc8d",
   "metadata": {},
   "outputs": [
    {
     "name": "stdout",
     "output_type": "stream",
     "text": [
      "Accuracy of Deep Learning model: 84.9145%\n",
      "[6.57541355e-10 9.99999999e-01]\n"
     ]
    }
   ],
   "source": [
    "## Neural Network and Deep Learning\n",
    "\n",
    "DeepLearning_model = MLPClassifier(solver='lbfgs', hidden_layer_sizes=(150,1400), random_state=1)\n",
    "\n",
    "# training\n",
    "DeepLearning_model.fit(X_train_transformed, Y_train)\n",
    "y_pred_DL= DeepLearning_model.predict(X_test_transformed)\n",
    "\n",
    "# evaluation\n",
    "DeepLearning_accuracy = accuracy_score(Y_test, y_pred_DL)\n",
    "print(\"Accuracy of Deep Learning model: {:.4f}%\".format(DeepLearning_accuracy*100))\n",
    "\n",
    "y_pred_prob_dl = DeepLearning_model.predict_proba(X_test_transformed)\n",
    "print(y_pred_prob_dl[0])"
   ]
  },
  {
   "cell_type": "markdown",
   "id": "a3b96a0c",
   "metadata": {},
   "source": [
    "## Decision Tree"
   ]
  },
  {
   "cell_type": "code",
   "execution_count": 26,
   "id": "cd94cdc5",
   "metadata": {},
   "outputs": [
    {
     "name": "stdout",
     "output_type": "stream",
     "text": [
      "Decision Tree Model Accuracy: 80.0933%\n",
      "[0.26582278 0.73417722]\n"
     ]
    }
   ],
   "source": [
    "DecisionTree_model = DecisionTreeClassifier(min_samples_leaf=15,random_state=0) ## number of trees and number of layers/depth\n",
    "\n",
    "#training\n",
    "DecisionTree_model.fit(X_train_transformed, Y_train)\n",
    "y_pred_DecisionTree = DecisionTree_model.predict(X_test_transformed)\n",
    "\n",
    "#evaluation\n",
    "DecisionTree_accuracy = accuracy_score(Y_test, y_pred_DecisionTree)\n",
    "print(\"Decision Tree Model Accuracy: {:.4f}%\".format(DecisionTree_accuracy*100))\n",
    "\n",
    "y_pred_prob_dt_model = DecisionTree_model.predict_proba(X_test_transformed)\n",
    "print(y_pred_prob_dt_model[0])"
   ]
  },
  {
   "cell_type": "markdown",
   "id": "ef258c89",
   "metadata": {},
   "source": [
    "# Random Forest"
   ]
  },
  {
   "cell_type": "code",
   "execution_count": 27,
   "id": "3e4c2392",
   "metadata": {},
   "outputs": [
    {
     "name": "stdout",
     "output_type": "stream",
     "text": [
      "Random Forest Model Accuracy: 80.0933%\n",
      "[0.46041516 0.53958484]\n"
     ]
    }
   ],
   "source": [
    "RandomForest_model = RandomForestClassifier(n_estimators=300, max_depth=20, bootstrap=True, random_state=0) ## number of trees and number of layers/depth\n",
    "\n",
    "#training\n",
    "RandomForest_model.fit(X_train_transformed, Y_train)\n",
    "y_pred_RandomForest_model = RandomForest_model.predict(X_test_transformed)\n",
    "\n",
    "#evaluation\n",
    "RandomForest_model_accuracy = accuracy_score(Y_test, y_pred_RandomForest_model)\n",
    "print(\"Random Forest Model Accuracy: {:.4f}%\".format(RandomForest_model_accuracy*100))\n",
    "\n",
    "y_pred_prob_rfmodel = RandomForest_model.predict_proba(X_test_transformed)\n",
    "print(y_pred_prob_rfmodel[0])"
   ]
  },
  {
   "cell_type": "markdown",
   "id": "e91ad679",
   "metadata": {},
   "source": [
    "## LIGHT GBM"
   ]
  },
  {
   "cell_type": "code",
   "execution_count": 28,
   "id": "adbd2948",
   "metadata": {},
   "outputs": [
    {
     "name": "stdout",
     "output_type": "stream",
     "text": [
      "[LightGBM] [Info] Number of positive: 603, number of negative: 897\n",
      "[LightGBM] [Debug] Dataset::GetMultiBinFromSparseFeatures: sparse rate 0.967692\n",
      "[LightGBM] [Debug] Dataset::GetMultiBinFromAllFeatures: sparse rate 0.955935\n",
      "[LightGBM] [Debug] init for col-wise cost 0.001059 seconds, init for row-wise cost 0.000829 seconds\n",
      "[LightGBM] [Info] Auto-choosing row-wise multi-threading, the overhead of testing was 0.001841 seconds.\n",
      "You can set `force_row_wise=true` to remove the overhead.\n",
      "And if memory is not enough, you can set `force_col_wise=true`.\n",
      "[LightGBM] [Debug] Using Sparse Multi-Val Bin\n",
      "[LightGBM] [Info] Total Bins 1814\n",
      "[LightGBM] [Info] Number of data points in the train set: 1500, number of used features: 97\n",
      "[LightGBM] [Info] [binary:BoostFromScore]: pavg=0.402000 -> initscore=-0.397139\n",
      "[LightGBM] [Info] Start training from score -0.397139\n",
      "[LightGBM] [Debug] Trained a tree with leaves = 31 and depth = 18\n",
      "[LightGBM] [Debug] Trained a tree with leaves = 31 and depth = 17\n",
      "[LightGBM] [Debug] Trained a tree with leaves = 31 and depth = 21\n",
      "[LightGBM] [Debug] Trained a tree with leaves = 31 and depth = 20\n",
      "[LightGBM] [Debug] Trained a tree with leaves = 31 and depth = 20\n",
      "[LightGBM] [Debug] Trained a tree with leaves = 31 and depth = 21\n",
      "[LightGBM] [Debug] Trained a tree with leaves = 31 and depth = 21\n",
      "[LightGBM] [Debug] Trained a tree with leaves = 31 and depth = 18\n",
      "[LightGBM] [Debug] Trained a tree with leaves = 31 and depth = 22\n",
      "[LightGBM] [Debug] Trained a tree with leaves = 31 and depth = 22\n",
      "[LightGBM] [Debug] Trained a tree with leaves = 31 and depth = 19\n",
      "[LightGBM] [Debug] Trained a tree with leaves = 31 and depth = 21\n",
      "[LightGBM] [Debug] Trained a tree with leaves = 31 and depth = 21\n",
      "[LightGBM] [Debug] Trained a tree with leaves = 31 and depth = 24\n",
      "[LightGBM] [Debug] Trained a tree with leaves = 31 and depth = 19\n",
      "[LightGBM] [Debug] Trained a tree with leaves = 31 and depth = 22\n",
      "[LightGBM] [Debug] Trained a tree with leaves = 31 and depth = 25\n",
      "[LightGBM] [Debug] Trained a tree with leaves = 31 and depth = 24\n",
      "[LightGBM] [Debug] Trained a tree with leaves = 31 and depth = 24\n",
      "[LightGBM] [Debug] Trained a tree with leaves = 31 and depth = 24\n",
      "[LightGBM] [Debug] Trained a tree with leaves = 31 and depth = 22\n",
      "[LightGBM] [Debug] Trained a tree with leaves = 31 and depth = 24\n",
      "[LightGBM] [Debug] Trained a tree with leaves = 31 and depth = 21\n",
      "[LightGBM] [Debug] Trained a tree with leaves = 31 and depth = 24\n",
      "[LightGBM] [Debug] Trained a tree with leaves = 31 and depth = 24\n",
      "[LightGBM] [Debug] Trained a tree with leaves = 31 and depth = 27\n",
      "[LightGBM] [Debug] Trained a tree with leaves = 31 and depth = 26\n",
      "[LightGBM] [Debug] Trained a tree with leaves = 31 and depth = 28\n",
      "[LightGBM] [Debug] Trained a tree with leaves = 31 and depth = 28\n",
      "[LightGBM] [Debug] Trained a tree with leaves = 31 and depth = 27\n",
      "[LightGBM] [Debug] Trained a tree with leaves = 31 and depth = 28\n",
      "[LightGBM] [Debug] Trained a tree with leaves = 31 and depth = 28\n",
      "[LightGBM] [Debug] Trained a tree with leaves = 31 and depth = 27\n",
      "[LightGBM] [Debug] Trained a tree with leaves = 31 and depth = 27\n",
      "[LightGBM] [Debug] Trained a tree with leaves = 31 and depth = 27\n",
      "[LightGBM] [Debug] Trained a tree with leaves = 31 and depth = 23\n",
      "[LightGBM] [Debug] Trained a tree with leaves = 31 and depth = 25\n",
      "[LightGBM] [Debug] Trained a tree with leaves = 31 and depth = 27\n",
      "[LightGBM] [Debug] Trained a tree with leaves = 31 and depth = 22\n",
      "[LightGBM] [Debug] Trained a tree with leaves = 31 and depth = 28\n",
      "[LightGBM] [Debug] Trained a tree with leaves = 31 and depth = 27\n",
      "[LightGBM] [Debug] Trained a tree with leaves = 31 and depth = 26\n",
      "[LightGBM] [Debug] Trained a tree with leaves = 31 and depth = 22\n",
      "[LightGBM] [Debug] Trained a tree with leaves = 31 and depth = 25\n",
      "[LightGBM] [Debug] Trained a tree with leaves = 31 and depth = 27\n",
      "[LightGBM] [Debug] Trained a tree with leaves = 31 and depth = 25\n",
      "[LightGBM] [Debug] Trained a tree with leaves = 31 and depth = 25\n",
      "[LightGBM] [Debug] Trained a tree with leaves = 31 and depth = 25\n",
      "[LightGBM] [Debug] Trained a tree with leaves = 31 and depth = 22\n",
      "[LightGBM] [Debug] Trained a tree with leaves = 31 and depth = 26\n",
      "[LightGBM] [Debug] Trained a tree with leaves = 31 and depth = 23\n",
      "[LightGBM] [Debug] Trained a tree with leaves = 31 and depth = 24\n",
      "[LightGBM] [Debug] Trained a tree with leaves = 31 and depth = 25\n",
      "[LightGBM] [Debug] Trained a tree with leaves = 31 and depth = 26\n",
      "[LightGBM] [Debug] Trained a tree with leaves = 31 and depth = 21\n",
      "[LightGBM] [Debug] Trained a tree with leaves = 31 and depth = 27\n",
      "[LightGBM] [Debug] Trained a tree with leaves = 31 and depth = 23\n",
      "[LightGBM] [Debug] Trained a tree with leaves = 31 and depth = 24\n",
      "[LightGBM] [Debug] Trained a tree with leaves = 31 and depth = 24\n",
      "[LightGBM] [Debug] Trained a tree with leaves = 31 and depth = 27\n",
      "[LightGBM] [Debug] Trained a tree with leaves = 31 and depth = 23\n",
      "[LightGBM] [Debug] Trained a tree with leaves = 31 and depth = 25\n",
      "[LightGBM] [Debug] Trained a tree with leaves = 31 and depth = 23\n",
      "[LightGBM] [Debug] Trained a tree with leaves = 31 and depth = 25\n",
      "[LightGBM] [Debug] Trained a tree with leaves = 31 and depth = 22\n",
      "[LightGBM] [Debug] Trained a tree with leaves = 31 and depth = 23\n",
      "[LightGBM] [Debug] Trained a tree with leaves = 31 and depth = 21\n",
      "[LightGBM] [Debug] Trained a tree with leaves = 31 and depth = 24\n",
      "[LightGBM] [Debug] Trained a tree with leaves = 31 and depth = 28\n",
      "[LightGBM] [Debug] Trained a tree with leaves = 31 and depth = 25\n",
      "[LightGBM] [Debug] Trained a tree with leaves = 31 and depth = 22\n",
      "[LightGBM] [Debug] Trained a tree with leaves = 31 and depth = 26\n",
      "[LightGBM] [Debug] Trained a tree with leaves = 31 and depth = 24\n",
      "[LightGBM] [Debug] Trained a tree with leaves = 31 and depth = 23\n",
      "[LightGBM] [Debug] Trained a tree with leaves = 31 and depth = 29\n",
      "[LightGBM] [Debug] Trained a tree with leaves = 31 and depth = 20\n",
      "[LightGBM] [Debug] Trained a tree with leaves = 31 and depth = 22\n",
      "[LightGBM] [Debug] Trained a tree with leaves = 31 and depth = 25\n",
      "[LightGBM] [Debug] Trained a tree with leaves = 31 and depth = 27\n",
      "[LightGBM] [Debug] Trained a tree with leaves = 31 and depth = 26\n",
      "[LightGBM] [Debug] Trained a tree with leaves = 31 and depth = 21\n",
      "[LightGBM] [Debug] Trained a tree with leaves = 31 and depth = 23\n",
      "[LightGBM] [Debug] Trained a tree with leaves = 31 and depth = 23\n",
      "[LightGBM] [Debug] Trained a tree with leaves = 31 and depth = 23\n",
      "[LightGBM] [Debug] Trained a tree with leaves = 31 and depth = 21\n",
      "[LightGBM] [Debug] Trained a tree with leaves = 31 and depth = 27\n",
      "[LightGBM] [Debug] Trained a tree with leaves = 31 and depth = 21\n",
      "[LightGBM] [Debug] Trained a tree with leaves = 31 and depth = 23\n",
      "[LightGBM] [Debug] Trained a tree with leaves = 31 and depth = 23\n",
      "[LightGBM] [Debug] Trained a tree with leaves = 31 and depth = 25\n",
      "[LightGBM] [Debug] Trained a tree with leaves = 31 and depth = 23\n",
      "[LightGBM] [Debug] Trained a tree with leaves = 31 and depth = 27\n",
      "[LightGBM] [Debug] Trained a tree with leaves = 31 and depth = 19\n",
      "[LightGBM] [Debug] Trained a tree with leaves = 31 and depth = 23\n",
      "[LightGBM] [Debug] Trained a tree with leaves = 31 and depth = 21\n",
      "[LightGBM] [Debug] Trained a tree with leaves = 31 and depth = 26\n",
      "[LightGBM] [Debug] Trained a tree with leaves = 31 and depth = 25\n",
      "[LightGBM] [Debug] Trained a tree with leaves = 31 and depth = 23\n",
      "[LightGBM] [Debug] Trained a tree with leaves = 31 and depth = 23\n",
      "[LightGBM] [Debug] Trained a tree with leaves = 31 and depth = 24\n",
      "Light GMB Classifier Model Accuracy: 81.4930%\n",
      "[0.12510133 0.87489867]\n"
     ]
    }
   ],
   "source": [
    "import lightgbm as lgb\n",
    "\n",
    "lgbmodel = lgb.LGBMClassifier(learning_rate=0.09, max_depth=-5, random_state=0, verbose=20)\n",
    "#training\n",
    "lgbmodel.fit(X_train_transformed, Y_train, eval_metric='logloss')  # Remove the 'verbose' argument here\n",
    "y_pred_lgb = lgbmodel.predict(X_test_transformed)\n",
    "\n",
    "#evaluation\n",
    "acc_lgb = accuracy_score(Y_test, y_pred_lgb)\n",
    "print(\"Light GMB Classifier Model Accuracy: {:.4f}%\".format(acc_lgb*100))\n",
    "\n",
    "y_pred_prob_lgb = lgbmodel.predict_proba(X_test_transformed)\n",
    "print(y_pred_prob_lgb[0])\n"
   ]
  },
  {
   "cell_type": "markdown",
   "id": "9e5c5353",
   "metadata": {},
   "source": [
    "## CatBoost"
   ]
  },
  {
   "cell_type": "code",
   "execution_count": 29,
   "id": "d5f550e7",
   "metadata": {},
   "outputs": [
    {
     "name": "stdout",
     "output_type": "stream",
     "text": [
      "Learning rate set to 0.01225\n",
      "0:\tlearn: 0.6886707\ttotal: 195ms\tremaining: 3m 15s\n",
      "20:\tlearn: 0.6142777\ttotal: 740ms\tremaining: 34.5s\n",
      "40:\tlearn: 0.5638086\ttotal: 1.62s\tremaining: 38s\n",
      "60:\tlearn: 0.5314165\ttotal: 2.41s\tremaining: 37.1s\n",
      "80:\tlearn: 0.5067525\ttotal: 2.89s\tremaining: 32.8s\n",
      "100:\tlearn: 0.4874207\ttotal: 3.42s\tremaining: 30.5s\n",
      "120:\tlearn: 0.4715074\ttotal: 4.14s\tremaining: 30.1s\n",
      "140:\tlearn: 0.4577291\ttotal: 5s\tremaining: 30.5s\n",
      "160:\tlearn: 0.4466579\ttotal: 5.66s\tremaining: 29.5s\n",
      "180:\tlearn: 0.4352926\ttotal: 6.15s\tremaining: 27.8s\n",
      "200:\tlearn: 0.4256117\ttotal: 6.72s\tremaining: 26.7s\n",
      "220:\tlearn: 0.4169068\ttotal: 7.54s\tremaining: 26.6s\n",
      "240:\tlearn: 0.4096973\ttotal: 8.42s\tremaining: 26.5s\n",
      "260:\tlearn: 0.4021370\ttotal: 8.91s\tremaining: 25.2s\n",
      "280:\tlearn: 0.3957664\ttotal: 9.45s\tremaining: 24.2s\n",
      "300:\tlearn: 0.3897968\ttotal: 10s\tremaining: 23.3s\n",
      "320:\tlearn: 0.3845850\ttotal: 10.6s\tremaining: 22.4s\n",
      "340:\tlearn: 0.3790639\ttotal: 11.2s\tremaining: 21.6s\n",
      "360:\tlearn: 0.3746086\ttotal: 11.7s\tremaining: 20.7s\n",
      "380:\tlearn: 0.3697880\ttotal: 12.2s\tremaining: 19.9s\n",
      "400:\tlearn: 0.3655809\ttotal: 12.8s\tremaining: 19.1s\n",
      "420:\tlearn: 0.3610822\ttotal: 13.3s\tremaining: 18.3s\n",
      "440:\tlearn: 0.3570474\ttotal: 13.8s\tremaining: 17.5s\n",
      "460:\tlearn: 0.3526945\ttotal: 14.3s\tremaining: 16.7s\n",
      "480:\tlearn: 0.3483875\ttotal: 14.8s\tremaining: 16s\n",
      "500:\tlearn: 0.3442295\ttotal: 15.4s\tremaining: 15.3s\n",
      "520:\tlearn: 0.3407349\ttotal: 15.9s\tremaining: 14.6s\n",
      "540:\tlearn: 0.3368531\ttotal: 16.4s\tremaining: 13.9s\n",
      "560:\tlearn: 0.3330864\ttotal: 16.9s\tremaining: 13.2s\n",
      "580:\tlearn: 0.3293367\ttotal: 17.4s\tremaining: 12.6s\n",
      "600:\tlearn: 0.3257470\ttotal: 17.9s\tremaining: 11.9s\n",
      "620:\tlearn: 0.3224195\ttotal: 18.5s\tremaining: 11.3s\n",
      "640:\tlearn: 0.3187336\ttotal: 19s\tremaining: 10.7s\n",
      "660:\tlearn: 0.3152167\ttotal: 19.5s\tremaining: 10s\n",
      "680:\tlearn: 0.3121600\ttotal: 20s\tremaining: 9.39s\n",
      "700:\tlearn: 0.3080954\ttotal: 20.6s\tremaining: 8.77s\n",
      "720:\tlearn: 0.3048597\ttotal: 21.1s\tremaining: 8.15s\n",
      "740:\tlearn: 0.3019741\ttotal: 21.6s\tremaining: 7.54s\n",
      "760:\tlearn: 0.2981344\ttotal: 22.1s\tremaining: 6.93s\n",
      "780:\tlearn: 0.2943605\ttotal: 22.6s\tremaining: 6.33s\n",
      "800:\tlearn: 0.2903726\ttotal: 23.1s\tremaining: 5.74s\n",
      "820:\tlearn: 0.2871742\ttotal: 23.7s\tremaining: 5.17s\n",
      "840:\tlearn: 0.2835914\ttotal: 24.3s\tremaining: 4.59s\n",
      "860:\tlearn: 0.2800838\ttotal: 24.8s\tremaining: 4.01s\n",
      "880:\tlearn: 0.2763341\ttotal: 25.4s\tremaining: 3.43s\n",
      "900:\tlearn: 0.2734503\ttotal: 26s\tremaining: 2.86s\n",
      "920:\tlearn: 0.2700706\ttotal: 26.6s\tremaining: 2.28s\n",
      "940:\tlearn: 0.2670072\ttotal: 27.2s\tremaining: 1.7s\n",
      "960:\tlearn: 0.2649039\ttotal: 27.8s\tremaining: 1.13s\n",
      "980:\tlearn: 0.2623711\ttotal: 28.4s\tremaining: 549ms\n",
      "999:\tlearn: 0.2597323\ttotal: 29s\tremaining: 0us\n",
      "Accuracy of CatBoostClassifier Model: 83.2037%\n",
      "[0.26357764 0.73642236]\n"
     ]
    }
   ],
   "source": [
    "from catboost import CatBoostClassifier\n",
    "cat_model = CatBoostClassifier(random_state=0) ## number of trees and number of layers/depth\n",
    "\n",
    "#training\n",
    "cat_model.fit(X_train_transformed, Y_train, verbose=20)\n",
    "y_pred_cat_model = cat_model.predict(X_test_transformed)\n",
    "\n",
    "#evaluation\n",
    "cat_accuracy = accuracy_score(Y_test, y_pred_cat_model)\n",
    "print(\"Accuracy of CatBoostClassifier Model: {:.4f}%\".format(cat_accuracy *100))\n",
    "\n",
    "y_pred_prob_cat_model = cat_model.predict_proba(X_test_transformed)\n",
    "print(y_pred_prob_cat_model[0])\n",
    "\n",
    "#Accuracy of CatBoostClassifier Model: 83.2037%\n",
    "# [0.26357764 0.73642236]"
   ]
  },
  {
   "cell_type": "markdown",
   "id": "e32bc294",
   "metadata": {},
   "source": [
    "# LSTM"
   ]
  },
  {
   "cell_type": "code",
   "execution_count": 30,
   "id": "a1c00321",
   "metadata": {},
   "outputs": [],
   "source": [
    "from numpy import array\n",
    "from sklearn.preprocessing import LabelEncoder\n",
    "docs_x=final['Cleaned_URL']\n",
    "docs_c=final['Flag']"
   ]
  },
  {
   "cell_type": "code",
   "execution_count": 31,
   "id": "1df0d354",
   "metadata": {},
   "outputs": [],
   "source": [
    "# Count words and create a vocabulary\n",
    "from collections import Counter\n",
    "words = [j for i in docs_x for j in i]\n",
    "count_words = Counter(words)\n",
    "total_words = len(words)\n",
    "sorted_words = count_words.most_common(total_words)\n",
    "vocab_to_int = {w: i+1 for i, (w, c) in enumerate(sorted_words)}  # Note: 0 is reserved for null\n",
    "\n",
    "# One-hot encode the text\n",
    "text_int = []\n",
    "for i in docs_x:\n",
    "    r = [vocab_to_int[w] for w in i]\n",
    "    text_int.append(r)\n",
    "\n",
    "# Encode labels (assuming 'subj' is positive class, and others are negative)\n",
    "encoded_labels = [1 if label == 'subj' else 0 for label in docs_c]"
   ]
  },
  {
   "cell_type": "code",
   "execution_count": 32,
   "id": "773e3a7e",
   "metadata": {},
   "outputs": [
    {
     "name": "stdout",
     "output_type": "stream",
     "text": [
      "WARNING:tensorflow:From C:\\Users\\Ritik khandelwal\\anaconda3\\lib\\site-packages\\keras\\src\\losses.py:2976: The name tf.losses.sparse_softmax_cross_entropy is deprecated. Please use tf.compat.v1.losses.sparse_softmax_cross_entropy instead.\n",
      "\n"
     ]
    }
   ],
   "source": [
    "import numpy as np\n",
    "from sklearn.preprocessing import LabelEncoder\n",
    "from keras.preprocessing.sequence import pad_sequences\n",
    "from sklearn.model_selection import train_test_split\n",
    "\n",
    "X_train_lstm, X_test_lstm, Y_train_lstm, Y_test_lstm = train_test_split(text_int, encoded_labels, test_size=0.3, random_state=13)\n",
    "y_train = np.array(Y_train_lstm)\n",
    "y_test = np.array(Y_test_lstm)\n",
    "\n",
    "\n",
    "maxlen = 200  # Example: setting a fixed length of 100\n",
    "x_train_padded = pad_sequences(X_train_lstm, maxlen=maxlen)\n",
    "x_test_padded = pad_sequences(X_test_lstm, maxlen=maxlen)\n",
    "\n",
    "x_train = np.array(x_train_padded)\n",
    "x_test = np.array(x_test_padded)"
   ]
  },
  {
   "cell_type": "code",
   "execution_count": 33,
   "id": "c4838aa1",
   "metadata": {},
   "outputs": [
    {
     "name": "stdout",
     "output_type": "stream",
     "text": [
      "WARNING:tensorflow:From C:\\Users\\Ritik khandelwal\\anaconda3\\lib\\site-packages\\keras\\src\\backend.py:873: The name tf.get_default_graph is deprecated. Please use tf.compat.v1.get_default_graph instead.\n",
      "\n",
      "WARNING:tensorflow:From C:\\Users\\Ritik khandelwal\\anaconda3\\lib\\site-packages\\keras\\src\\optimizers\\__init__.py:309: The name tf.train.Optimizer is deprecated. Please use tf.compat.v1.train.Optimizer instead.\n",
      "\n",
      "Epoch 1/5\n",
      "WARNING:tensorflow:From C:\\Users\\Ritik khandelwal\\anaconda3\\lib\\site-packages\\keras\\src\\utils\\tf_utils.py:492: The name tf.ragged.RaggedTensorValue is deprecated. Please use tf.compat.v1.ragged.RaggedTensorValue instead.\n",
      "\n",
      "WARNING:tensorflow:From C:\\Users\\Ritik khandelwal\\anaconda3\\lib\\site-packages\\keras\\src\\engine\\base_layer_utils.py:384: The name tf.executing_eagerly_outside_functions is deprecated. Please use tf.compat.v1.executing_eagerly_outside_functions instead.\n",
      "\n",
      "15/15 [==============================] - 5s 164ms/step - loss: 0.6261 - accuracy: 0.9267 - val_loss: 0.4789 - val_accuracy: 1.0000\n",
      "Epoch 2/5\n",
      "15/15 [==============================] - 2s 151ms/step - loss: 0.1557 - accuracy: 1.0000 - val_loss: 0.0066 - val_accuracy: 1.0000\n",
      "Epoch 3/5\n",
      "15/15 [==============================] - 2s 151ms/step - loss: 0.0038 - accuracy: 1.0000 - val_loss: 0.0017 - val_accuracy: 1.0000\n",
      "Epoch 4/5\n",
      "15/15 [==============================] - 2s 151ms/step - loss: 0.0015 - accuracy: 1.0000 - val_loss: 9.9072e-04 - val_accuracy: 1.0000\n",
      "Epoch 5/5\n",
      "15/15 [==============================] - 2s 148ms/step - loss: 0.0010 - accuracy: 1.0000 - val_loss: 7.2474e-04 - val_accuracy: 1.0000\n"
     ]
    },
    {
     "data": {
      "text/plain": [
       "<keras.src.callbacks.History at 0x2030c64f1c0>"
      ]
     },
     "execution_count": 33,
     "metadata": {},
     "output_type": "execute_result"
    }
   ],
   "source": [
    "# build model\n",
    "import keras\n",
    "from keras.preprocessing import sequence \n",
    "from keras.models import Sequential \n",
    "from keras.layers import Dense, Embedding, Flatten\n",
    "from keras.layers import LSTM\n",
    "from keras.layers import Dense, Dropout\n",
    "max_features = total_words\n",
    "maxlen = 200\n",
    "batch_size = 100\n",
    "\n",
    "# model architecture\n",
    "model = Sequential()\n",
    "model.add(Embedding(max_features, 20, input_length=maxlen))\n",
    "model.add(LSTM(40, dropout=0.20, recurrent_dropout=0.20))\n",
    "model.add(Dropout(0.1))\n",
    "model.add(Dense(1, activation='sigmoid'))\n",
    "model.compile(loss='binary_crossentropy', optimizer='adam', metrics=['accuracy'])\n",
    "model.fit(x_train, y_train, batch_size=batch_size, epochs=5, validation_data=(x_test, y_test))"
   ]
  }
 ],
 "metadata": {
  "kernelspec": {
   "display_name": "Python 3 (ipykernel)",
   "language": "python",
   "name": "python3"
  },
  "language_info": {
   "codemirror_mode": {
    "name": "ipython",
    "version": 3
   },
   "file_extension": ".py",
   "mimetype": "text/x-python",
   "name": "python",
   "nbconvert_exporter": "python",
   "pygments_lexer": "ipython3",
   "version": "3.10.9"
  }
 },
 "nbformat": 4,
 "nbformat_minor": 5
}
